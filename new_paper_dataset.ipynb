{
 "cells": [
  {
   "cell_type": "code",
   "execution_count": null,
   "id": "044b1c46",
   "metadata": {},
   "outputs": [],
   "source": [
    "import requests\n",
    "from bs4 import BeautifulSoup"
   ]
  },
  {
   "cell_type": "code",
   "execution_count": 2,
   "id": "5a028c72",
   "metadata": {},
   "outputs": [],
   "source": [
    "start_links = [\"https://www.sintef.no/projectweb/mrst/publications/papers-by-mrst-team/\",\n",
    "               \"https://www.sintef.no/projectweb/mrst/publications/proceedings-by-mrst-team/\",\n",
    "               \"https://www.sintef.no/projectweb/mrst/publications/papers-by-others/\",\n",
    "               \"https://www.sintef.no/projectweb/mrst/publications/proceedings-papers/\",\n",
    "               \"https://www.sintef.no/projectweb/mrst/publications/papers-by-others2/\",\n",
    "               \"https://www.sintef.no/projectweb/mrst/publications/phd-theses/\",\n",
    "               \"https://www.sintef.no/projectweb/mrst/publications/master-theses/\"]"
   ]
  },
  {
   "cell_type": "code",
   "execution_count": null,
   "id": "1694a1f7",
   "metadata": {},
   "outputs": [
    {
     "ename": "TypeError",
     "evalue": "request() missing 1 required positional argument: 'method'",
     "output_type": "error",
     "traceback": [
      "\u001b[31m---------------------------------------------------------------------------\u001b[39m",
      "\u001b[31mTypeError\u001b[39m                                 Traceback (most recent call last)",
      "\u001b[36mCell\u001b[39m\u001b[36m \u001b[39m\u001b[32mIn[6]\u001b[39m\u001b[32m, line 1\u001b[39m\n\u001b[32m----> \u001b[39m\u001b[32m1\u001b[39m response = \u001b[43mrequest\u001b[49m\u001b[43m(\u001b[49m\u001b[43murl\u001b[49m\u001b[43m \u001b[49m\u001b[43m=\u001b[49m\u001b[43m \u001b[49m\u001b[43mstart_links\u001b[49m\u001b[43m[\u001b[49m\u001b[32;43m0\u001b[39;49m\u001b[43m]\u001b[49m\u001b[43m)\u001b[49m\n\u001b[32m      2\u001b[39m soup = BeautifulSoup(response.content, \u001b[33m'\u001b[39m\u001b[33mhtml.parser\u001b[39m\u001b[33m'\u001b[39m)\n\u001b[32m      3\u001b[39m \u001b[38;5;28mprint\u001b[39m(soup.find_all(\u001b[33m\"\u001b[39m\u001b[33mdiv\u001b[39m\u001b[33m\"\u001b[39m))\n",
      "\u001b[31mTypeError\u001b[39m: request() missing 1 required positional argument: 'method'"
     ]
    }
   ],
   "source": [
    "response = requests.get(start_links[0])\n",
    "soup = BeautifulSoup(response.content, 'html.parser')\n",
    "print(soup.find_all(\"div\"))"
   ]
  }
 ],
 "metadata": {
  "kernelspec": {
   "display_name": ".venv",
   "language": "python",
   "name": "python3"
  },
  "language_info": {
   "codemirror_mode": {
    "name": "ipython",
    "version": 3
   },
   "file_extension": ".py",
   "mimetype": "text/x-python",
   "name": "python",
   "nbconvert_exporter": "python",
   "pygments_lexer": "ipython3",
   "version": "3.13.3"
  }
 },
 "nbformat": 4,
 "nbformat_minor": 5
}
