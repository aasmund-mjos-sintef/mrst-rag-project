{
 "cells": [
  {
   "cell_type": "code",
   "execution_count": 2,
   "id": "f90cf037",
   "metadata": {},
   "outputs": [
    {
     "name": "stderr",
     "output_type": "stream",
     "text": [
      "/home/aasmund_mjos/Downloads/sintef/mrst-rag-project/.venv/lib/python3.13/site-packages/tqdm/auto.py:21: TqdmWarning: IProgress not found. Please update jupyter and ipywidgets. See https://ipywidgets.readthedocs.io/en/stable/user_install.html\n",
      "  from .autonotebook import tqdm as notebook_tqdm\n"
     ]
    }
   ],
   "source": [
    "from langchain_docling import DoclingLoader\n",
    "from bs4 import BeautifulSoup\n",
    "import requests\n",
    "import pandas as pd\n",
    "import numpy as np"
   ]
  },
  {
   "cell_type": "code",
   "execution_count": 2,
   "id": "55b5e261",
   "metadata": {},
   "outputs": [
    {
     "name": "stdout",
     "output_type": "stream",
     "text": [
      "Done gathering folk.ntnu papers\n",
      "Loading document 2 out of 39\r"
     ]
    },
    {
     "name": "stderr",
     "output_type": "stream",
     "text": [
      "Token indices sequence length is longer than the specified maximum sequence length for this model (536 > 512). Running this sequence through the model will result in indexing errors\n"
     ]
    },
    {
     "name": "stdout",
     "output_type": "stream",
     "text": [
      "Loading document 6 out of 39\r"
     ]
    },
    {
     "name": "stderr",
     "output_type": "stream",
     "text": [
      "Token indices sequence length is longer than the specified maximum sequence length for this model (2239 > 512). Running this sequence through the model will result in indexing errors\n"
     ]
    },
    {
     "name": "stdout",
     "output_type": "stream",
     "text": [
      "Loading document 7 out of 39\r"
     ]
    },
    {
     "name": "stderr",
     "output_type": "stream",
     "text": [
      "Token indices sequence length is longer than the specified maximum sequence length for this model (1223 > 512). Running this sequence through the model will result in indexing errors\n"
     ]
    },
    {
     "name": "stdout",
     "output_type": "stream",
     "text": [
      "Loading document 8 out of 39\r"
     ]
    },
    {
     "name": "stderr",
     "output_type": "stream",
     "text": [
      "Token indices sequence length is longer than the specified maximum sequence length for this model (2369 > 512). Running this sequence through the model will result in indexing errors\n"
     ]
    },
    {
     "name": "stdout",
     "output_type": "stream",
     "text": [
      "Loading document 9 out of 39\r"
     ]
    },
    {
     "name": "stderr",
     "output_type": "stream",
     "text": [
      "Token indices sequence length is longer than the specified maximum sequence length for this model (636 > 512). Running this sequence through the model will result in indexing errors\n"
     ]
    },
    {
     "name": "stdout",
     "output_type": "stream",
     "text": [
      "Loading document 10 out of 39\r"
     ]
    },
    {
     "name": "stderr",
     "output_type": "stream",
     "text": [
      "Token indices sequence length is longer than the specified maximum sequence length for this model (520 > 512). Running this sequence through the model will result in indexing errors\n"
     ]
    },
    {
     "name": "stdout",
     "output_type": "stream",
     "text": [
      "Loading document 11 out of 39\r"
     ]
    },
    {
     "name": "stderr",
     "output_type": "stream",
     "text": [
      "Token indices sequence length is longer than the specified maximum sequence length for this model (552 > 512). Running this sequence through the model will result in indexing errors\n"
     ]
    },
    {
     "name": "stdout",
     "output_type": "stream",
     "text": [
      "Loading document 12 out of 39\r"
     ]
    },
    {
     "name": "stderr",
     "output_type": "stream",
     "text": [
      "Token indices sequence length is longer than the specified maximum sequence length for this model (680 > 512). Running this sequence through the model will result in indexing errors\n"
     ]
    },
    {
     "name": "stdout",
     "output_type": "stream",
     "text": [
      "Loading document 14 out of 39\r"
     ]
    },
    {
     "name": "stderr",
     "output_type": "stream",
     "text": [
      "Token indices sequence length is longer than the specified maximum sequence length for this model (1725 > 512). Running this sequence through the model will result in indexing errors\n"
     ]
    },
    {
     "name": "stdout",
     "output_type": "stream",
     "text": [
      "Loading document 15 out of 39\r"
     ]
    },
    {
     "name": "stderr",
     "output_type": "stream",
     "text": [
      "Token indices sequence length is longer than the specified maximum sequence length for this model (621 > 512). Running this sequence through the model will result in indexing errors\n"
     ]
    },
    {
     "name": "stdout",
     "output_type": "stream",
     "text": [
      "Loading document 17 out of 39\r"
     ]
    },
    {
     "name": "stderr",
     "output_type": "stream",
     "text": [
      "Token indices sequence length is longer than the specified maximum sequence length for this model (801 > 512). Running this sequence through the model will result in indexing errors\n"
     ]
    },
    {
     "name": "stdout",
     "output_type": "stream",
     "text": [
      "Loading document 18 out of 39\r"
     ]
    },
    {
     "name": "stderr",
     "output_type": "stream",
     "text": [
      "Token indices sequence length is longer than the specified maximum sequence length for this model (565 > 512). Running this sequence through the model will result in indexing errors\n"
     ]
    },
    {
     "name": "stdout",
     "output_type": "stream",
     "text": [
      "Loading document 19 out of 39\r"
     ]
    },
    {
     "name": "stderr",
     "output_type": "stream",
     "text": [
      "Token indices sequence length is longer than the specified maximum sequence length for this model (596 > 512). Running this sequence through the model will result in indexing errors\n"
     ]
    },
    {
     "name": "stdout",
     "output_type": "stream",
     "text": [
      "Loading document 20 out of 39\r"
     ]
    },
    {
     "name": "stderr",
     "output_type": "stream",
     "text": [
      "Token indices sequence length is longer than the specified maximum sequence length for this model (686 > 512). Running this sequence through the model will result in indexing errors\n"
     ]
    },
    {
     "name": "stdout",
     "output_type": "stream",
     "text": [
      "Loading document 22 out of 39\r"
     ]
    },
    {
     "name": "stderr",
     "output_type": "stream",
     "text": [
      "Token indices sequence length is longer than the specified maximum sequence length for this model (1161 > 512). Running this sequence through the model will result in indexing errors\n"
     ]
    },
    {
     "name": "stdout",
     "output_type": "stream",
     "text": [
      "Loading document 23 out of 39\r"
     ]
    },
    {
     "name": "stderr",
     "output_type": "stream",
     "text": [
      "Token indices sequence length is longer than the specified maximum sequence length for this model (1463 > 512). Running this sequence through the model will result in indexing errors\n"
     ]
    },
    {
     "name": "stdout",
     "output_type": "stream",
     "text": [
      "Loading document 24 out of 39\r"
     ]
    },
    {
     "name": "stderr",
     "output_type": "stream",
     "text": [
      "Token indices sequence length is longer than the specified maximum sequence length for this model (1223 > 512). Running this sequence through the model will result in indexing errors\n"
     ]
    },
    {
     "name": "stdout",
     "output_type": "stream",
     "text": [
      "Loading document 25 out of 39\r"
     ]
    },
    {
     "name": "stderr",
     "output_type": "stream",
     "text": [
      "Token indices sequence length is longer than the specified maximum sequence length for this model (2369 > 512). Running this sequence through the model will result in indexing errors\n"
     ]
    },
    {
     "name": "stdout",
     "output_type": "stream",
     "text": [
      "Loading document 27 out of 39\r"
     ]
    },
    {
     "name": "stderr",
     "output_type": "stream",
     "text": [
      "Token indices sequence length is longer than the specified maximum sequence length for this model (775 > 512). Running this sequence through the model will result in indexing errors\n"
     ]
    },
    {
     "name": "stdout",
     "output_type": "stream",
     "text": [
      "Loading document 33 out of 39\r"
     ]
    },
    {
     "name": "stderr",
     "output_type": "stream",
     "text": [
      "Token indices sequence length is longer than the specified maximum sequence length for this model (570 > 512). Running this sequence through the model will result in indexing errors\n"
     ]
    },
    {
     "name": "stdout",
     "output_type": "stream",
     "text": [
      "Loading document 35 out of 39\r"
     ]
    },
    {
     "name": "stderr",
     "output_type": "stream",
     "text": [
      "Token indices sequence length is longer than the specified maximum sequence length for this model (1019 > 512). Running this sequence through the model will result in indexing errors\n"
     ]
    },
    {
     "name": "stdout",
     "output_type": "stream",
     "text": [
      "Loading document 36 out of 39\r"
     ]
    },
    {
     "name": "stderr",
     "output_type": "stream",
     "text": [
      "Token indices sequence length is longer than the specified maximum sequence length for this model (581 > 512). Running this sequence through the model will result in indexing errors\n"
     ]
    },
    {
     "name": "stdout",
     "output_type": "stream",
     "text": [
      "Loading document 39 out of 39\r"
     ]
    }
   ],
   "source": [
    "start_link = \"https://www.sintef.no/projectweb/mrst/publications/\"\n",
    "\n",
    "response = requests.get(start_link)\n",
    "soup = BeautifulSoup(response.content, 'html.parser')\n",
    "\n",
    "documents = []\n",
    "\n",
    "links = set()\n",
    "\n",
    "for item_1 in soup.find_all(\"li\"):\n",
    "    for item_2 in item_1.find_all(\"a\"):\n",
    "        link = item_2.get(\"href\")\n",
    "        if \"publications\" in link:\n",
    "            links.add(\"https://www.sintef.no\" + link)\n",
    "\n",
    "links.discard(start_link)\n",
    "\n",
    "link_to_file_type = {}\n",
    "file_type_to_link = {}\n",
    "\n",
    "for link in links:\n",
    "\n",
    "    file_type = link[len(start_link):-1]\n",
    "\n",
    "    link_to_file_type[link] = file_type\n",
    "    file_type_to_link[file_type] = link\n",
    "\n",
    "ntnu_links = []\n",
    "\n",
    "for link in links:\n",
    "    response = requests.get(link)\n",
    "    soup = BeautifulSoup(response.content, 'html.parser')\n",
    "    documents = []\n",
    "    for section in soup.find_all('div', class_ = \"rich-text-field\"):\n",
    "        for article in section.find_all(\"li\"):\n",
    "            for link_box in article.find_all('a'):\n",
    "                paper_link = link_box.get('href')\n",
    "                if paper_link != None:\n",
    "                    if 'folk.ntnu' in paper_link:\n",
    "                        ntnu_links.append((paper_link, link))\n",
    "\n",
    "print(\"Done gathering folk.ntnu papers\")\n",
    "\n",
    "n = len(ntnu_links)\n",
    "\n",
    "for i,(paper_link, link) in enumerate(ntnu_links):\n",
    "    print(f\"Loading document {i+1} out of {n}\", end = \"\\r\")\n",
    "    loader = DoclingLoader(file_path=paper_link)\n",
    "    docs = loader.load()\n",
    "    documents.append(docs)"
   ]
  },
  {
   "cell_type": "code",
   "execution_count": null,
   "id": "65e795ca",
   "metadata": {},
   "outputs": [],
   "source": [
    "from typing import List\n",
    "\n",
    "def split_by_more(string: str, chars: List[str] = []):\n",
    "    if chars == []:\n",
    "        return string.split()\n",
    "    else:\n",
    "        for method, next_method in zip(chars, chars[1:]):\n",
    "            string = next_method.join(string.split(method))\n",
    "        return string.split(chars[-1])"
   ]
  },
  {
   "cell_type": "code",
   "execution_count": 60,
   "id": "3ffc69b3",
   "metadata": {},
   "outputs": [],
   "source": [
    "titles = []\n",
    "content = []\n",
    "metadata = []\n",
    "source = []\n",
    "chunk = []\n",
    "authors = []\n",
    "file_type = []\n",
    "\n",
    "for (paper_link, link, t, a), paper_documents in zip(ntnu_links, documents):\n",
    "    if len(paper_documents):\n",
    "        for i,paper_doc in enumerate(paper_documents):\n",
    "\n",
    "            m = paper_doc.metadata.get('dl_meta')\n",
    "            titles.append(t)\n",
    "            authors.append(a)\n",
    "            metadata.append(m)\n",
    "            source.append(paper_link)\n",
    "            file_type.append(link)\n",
    "            chunk.append(i)\n",
    "            content.append(paper_doc.page_content)\n",
    "\n",
    "df = pd.DataFrame({\"authors\": authors, \"content\": content, \"title\": titles, \"metadata\": metadata, \"file_type\": file_type, \"chunk\": chunk, \"source\": source})\n",
    "df.to_pickle(\"folk_ntnu_df.pkl\")"
   ]
  },
  {
   "cell_type": "code",
   "execution_count": 53,
   "id": "2a1bc113",
   "metadata": {},
   "outputs": [
    {
     "name": "stdout",
     "output_type": "stream",
     "text": [
      "Done gathering folk.ntnu papers\n"
     ]
    }
   ],
   "source": [
    "start_link = \"https://www.sintef.no/projectweb/mrst/publications/\"\n",
    "\n",
    "response = requests.get(start_link)\n",
    "soup = BeautifulSoup(response.content, 'html.parser')\n",
    "\n",
    "links = set()\n",
    "\n",
    "for item_1 in soup.find_all(\"li\"):\n",
    "    for item_2 in item_1.find_all(\"a\"):\n",
    "        link = item_2.get(\"href\")\n",
    "        if \"publications\" in link:\n",
    "            links.add(\"https://www.sintef.no\" + link)\n",
    "\n",
    "links.discard(start_link)\n",
    "\n",
    "link_to_file_type = {}\n",
    "file_type_to_link = {}\n",
    "\n",
    "for link in links:\n",
    "\n",
    "    file_type = link[len(start_link):-1]\n",
    "\n",
    "    link_to_file_type[link] = file_type\n",
    "    file_type_to_link[file_type] = link\n",
    "\n",
    "ntnu_links = []\n",
    "\n",
    "for link in links:\n",
    "    response = requests.get(link)\n",
    "    soup = BeautifulSoup(response.content, 'html.parser')\n",
    "    for section in soup.find_all('div', class_ = \"rich-text-field\"):\n",
    "        for article in section.find_all(\"li\"):\n",
    "            for link_box in article.find_all('a'):\n",
    "                paper_link = link_box.get('href')\n",
    "                if paper_link != None:\n",
    "                    if 'folk.ntnu' in paper_link:\n",
    "                        title = link_box.get_text()\n",
    "                        text = article.get_text()\n",
    "                        index = text.find(title)\n",
    "                        name_text = text[:index]\n",
    "                        authors = split_by_more(name_text, [\", and\", \", \"])\n",
    "                        ntnu_links.append((paper_link, link, title, authors))\n",
    "\n",
    "print(\"Done gathering folk.ntnu papers\")"
   ]
  },
  {
   "cell_type": "code",
   "execution_count": 6,
   "id": "e6102787",
   "metadata": {},
   "outputs": [
    {
     "data": {
      "text/html": [
       "<div>\n",
       "<style scoped>\n",
       "    .dataframe tbody tr th:only-of-type {\n",
       "        vertical-align: middle;\n",
       "    }\n",
       "\n",
       "    .dataframe tbody tr th {\n",
       "        vertical-align: top;\n",
       "    }\n",
       "\n",
       "    .dataframe thead th {\n",
       "        text-align: right;\n",
       "    }\n",
       "</style>\n",
       "<table border=\"1\" class=\"dataframe\">\n",
       "  <thead>\n",
       "    <tr style=\"text-align: right;\">\n",
       "      <th></th>\n",
       "      <th>authors</th>\n",
       "      <th>content</th>\n",
       "      <th>title</th>\n",
       "      <th>metadata</th>\n",
       "      <th>file_type</th>\n",
       "      <th>chunk</th>\n",
       "      <th>source</th>\n",
       "    </tr>\n",
       "  </thead>\n",
       "  <tbody>\n",
       "    <tr>\n",
       "      <th>0</th>\n",
       "      <td>[T. S. Mykkeltvedt, X. Raynaud,  K.-A. Lie. ]</td>\n",
       "      <td>Fully Implicit Higher-Order Schemes Applied to...</td>\n",
       "      <td>Fully implicit higher-order schemes applied to...</td>\n",
       "      <td>{'schema_name': 'docling_core.transforms.chunk...</td>\n",
       "      <td>https://www.sintef.no/projectweb/mrst/publicat...</td>\n",
       "      <td>0</td>\n",
       "      <td>https://folk.ntnu.no/andreas/papers/comg-poly-...</td>\n",
       "    </tr>\n",
       "    <tr>\n",
       "      <th>1</th>\n",
       "      <td>[T. S. Mykkeltvedt, X. Raynaud,  K.-A. Lie. ]</td>\n",
       "      <td>Fully Implicit Higher-Order Schemes Applied to...</td>\n",
       "      <td>Fully implicit higher-order schemes applied to...</td>\n",
       "      <td>{'schema_name': 'docling_core.transforms.chunk...</td>\n",
       "      <td>https://www.sintef.no/projectweb/mrst/publicat...</td>\n",
       "      <td>1</td>\n",
       "      <td>https://folk.ntnu.no/andreas/papers/comg-poly-...</td>\n",
       "    </tr>\n",
       "    <tr>\n",
       "      <th>2</th>\n",
       "      <td>[T. S. Mykkeltvedt, X. Raynaud,  K.-A. Lie. ]</td>\n",
       "      <td>Fully Implicit Higher-Order Schemes Applied to...</td>\n",
       "      <td>Fully implicit higher-order schemes applied to...</td>\n",
       "      <td>{'schema_name': 'docling_core.transforms.chunk...</td>\n",
       "      <td>https://www.sintef.no/projectweb/mrst/publicat...</td>\n",
       "      <td>2</td>\n",
       "      <td>https://folk.ntnu.no/andreas/papers/comg-poly-...</td>\n",
       "    </tr>\n",
       "    <tr>\n",
       "      <th>3</th>\n",
       "      <td>[T. S. Mykkeltvedt, X. Raynaud,  K.-A. Lie. ]</td>\n",
       "      <td>1 Introduction\\nIn many oil recovery processes...</td>\n",
       "      <td>Fully implicit higher-order schemes applied to...</td>\n",
       "      <td>{'schema_name': 'docling_core.transforms.chunk...</td>\n",
       "      <td>https://www.sintef.no/projectweb/mrst/publicat...</td>\n",
       "      <td>3</td>\n",
       "      <td>https://folk.ntnu.no/andreas/papers/comg-poly-...</td>\n",
       "    </tr>\n",
       "    <tr>\n",
       "      <th>4</th>\n",
       "      <td>[T. S. Mykkeltvedt, X. Raynaud,  K.-A. Lie. ]</td>\n",
       "      <td>1 Introduction\\nAs an example of water-based E...</td>\n",
       "      <td>Fully implicit higher-order schemes applied to...</td>\n",
       "      <td>{'schema_name': 'docling_core.transforms.chunk...</td>\n",
       "      <td>https://www.sintef.no/projectweb/mrst/publicat...</td>\n",
       "      <td>4</td>\n",
       "      <td>https://folk.ntnu.no/andreas/papers/comg-poly-...</td>\n",
       "    </tr>\n",
       "    <tr>\n",
       "      <th>...</th>\n",
       "      <td>...</td>\n",
       "      <td>...</td>\n",
       "      <td>...</td>\n",
       "      <td>...</td>\n",
       "      <td>...</td>\n",
       "      <td>...</td>\n",
       "      <td>...</td>\n",
       "    </tr>\n",
       "    <tr>\n",
       "      <th>2811</th>\n",
       "      <td>[A. R. Syversveen, H. M. Nilsen, K.-A. Lie, J....</td>\n",
       "      <td>6 Concluding remarks\\nCO2 is affected by top-r...</td>\n",
       "      <td>A study on how top-surface morphology influenc...</td>\n",
       "      <td>{'schema_name': 'docling_core.transforms.chunk...</td>\n",
       "      <td>https://www.sintef.no/projectweb/mrst/publicat...</td>\n",
       "      <td>34</td>\n",
       "      <td>http://folk.ntnu.no/andreas/papers/geostats-20...</td>\n",
       "    </tr>\n",
       "    <tr>\n",
       "      <th>2812</th>\n",
       "      <td>[A. R. Syversveen, H. M. Nilsen, K.-A. Lie, J....</td>\n",
       "      <td>References\\n1. Abrahamsen, P., Hauge, R., Hegg...</td>\n",
       "      <td>A study on how top-surface morphology influenc...</td>\n",
       "      <td>{'schema_name': 'docling_core.transforms.chunk...</td>\n",
       "      <td>https://www.sintef.no/projectweb/mrst/publicat...</td>\n",
       "      <td>35</td>\n",
       "      <td>http://folk.ntnu.no/andreas/papers/geostats-20...</td>\n",
       "    </tr>\n",
       "    <tr>\n",
       "      <th>2813</th>\n",
       "      <td>[A. R. Syversveen, H. M. Nilsen, K.-A. Lie, J....</td>\n",
       "      <td>References\\n3. Class, H., Ebigbo, A., Helmig, ...</td>\n",
       "      <td>A study on how top-surface morphology influenc...</td>\n",
       "      <td>{'schema_name': 'docling_core.transforms.chunk...</td>\n",
       "      <td>https://www.sintef.no/projectweb/mrst/publicat...</td>\n",
       "      <td>36</td>\n",
       "      <td>http://folk.ntnu.no/andreas/papers/geostats-20...</td>\n",
       "    </tr>\n",
       "    <tr>\n",
       "      <th>2814</th>\n",
       "      <td>[A. R. Syversveen, H. M. Nilsen, K.-A. Lie, J....</td>\n",
       "      <td>References\\n4. Hollund, K., Mostad, P., Nielse...</td>\n",
       "      <td>A study on how top-surface morphology influenc...</td>\n",
       "      <td>{'schema_name': 'docling_core.transforms.chunk...</td>\n",
       "      <td>https://www.sintef.no/projectweb/mrst/publicat...</td>\n",
       "      <td>37</td>\n",
       "      <td>http://folk.ntnu.no/andreas/papers/geostats-20...</td>\n",
       "    </tr>\n",
       "    <tr>\n",
       "      <th>2815</th>\n",
       "      <td>[A. R. Syversveen, H. M. Nilsen, K.-A. Lie, J....</td>\n",
       "      <td>References\\n7. Pruess, K., Garca, J., Kovscek,...</td>\n",
       "      <td>A study on how top-surface morphology influenc...</td>\n",
       "      <td>{'schema_name': 'docling_core.transforms.chunk...</td>\n",
       "      <td>https://www.sintef.no/projectweb/mrst/publicat...</td>\n",
       "      <td>38</td>\n",
       "      <td>http://folk.ntnu.no/andreas/papers/geostats-20...</td>\n",
       "    </tr>\n",
       "  </tbody>\n",
       "</table>\n",
       "<p>2816 rows × 7 columns</p>\n",
       "</div>"
      ],
      "text/plain": [
       "                                                authors  \\\n",
       "0         [T. S. Mykkeltvedt, X. Raynaud,  K.-A. Lie. ]   \n",
       "1         [T. S. Mykkeltvedt, X. Raynaud,  K.-A. Lie. ]   \n",
       "2         [T. S. Mykkeltvedt, X. Raynaud,  K.-A. Lie. ]   \n",
       "3         [T. S. Mykkeltvedt, X. Raynaud,  K.-A. Lie. ]   \n",
       "4         [T. S. Mykkeltvedt, X. Raynaud,  K.-A. Lie. ]   \n",
       "...                                                 ...   \n",
       "2811  [A. R. Syversveen, H. M. Nilsen, K.-A. Lie, J....   \n",
       "2812  [A. R. Syversveen, H. M. Nilsen, K.-A. Lie, J....   \n",
       "2813  [A. R. Syversveen, H. M. Nilsen, K.-A. Lie, J....   \n",
       "2814  [A. R. Syversveen, H. M. Nilsen, K.-A. Lie, J....   \n",
       "2815  [A. R. Syversveen, H. M. Nilsen, K.-A. Lie, J....   \n",
       "\n",
       "                                                content  \\\n",
       "0     Fully Implicit Higher-Order Schemes Applied to...   \n",
       "1     Fully Implicit Higher-Order Schemes Applied to...   \n",
       "2     Fully Implicit Higher-Order Schemes Applied to...   \n",
       "3     1 Introduction\\nIn many oil recovery processes...   \n",
       "4     1 Introduction\\nAs an example of water-based E...   \n",
       "...                                                 ...   \n",
       "2811  6 Concluding remarks\\nCO2 is affected by top-r...   \n",
       "2812  References\\n1. Abrahamsen, P., Hauge, R., Hegg...   \n",
       "2813  References\\n3. Class, H., Ebigbo, A., Helmig, ...   \n",
       "2814  References\\n4. Hollund, K., Mostad, P., Nielse...   \n",
       "2815  References\\n7. Pruess, K., Garca, J., Kovscek,...   \n",
       "\n",
       "                                                  title  \\\n",
       "0     Fully implicit higher-order schemes applied to...   \n",
       "1     Fully implicit higher-order schemes applied to...   \n",
       "2     Fully implicit higher-order schemes applied to...   \n",
       "3     Fully implicit higher-order schemes applied to...   \n",
       "4     Fully implicit higher-order schemes applied to...   \n",
       "...                                                 ...   \n",
       "2811  A study on how top-surface morphology influenc...   \n",
       "2812  A study on how top-surface morphology influenc...   \n",
       "2813  A study on how top-surface morphology influenc...   \n",
       "2814  A study on how top-surface morphology influenc...   \n",
       "2815  A study on how top-surface morphology influenc...   \n",
       "\n",
       "                                               metadata  \\\n",
       "0     {'schema_name': 'docling_core.transforms.chunk...   \n",
       "1     {'schema_name': 'docling_core.transforms.chunk...   \n",
       "2     {'schema_name': 'docling_core.transforms.chunk...   \n",
       "3     {'schema_name': 'docling_core.transforms.chunk...   \n",
       "4     {'schema_name': 'docling_core.transforms.chunk...   \n",
       "...                                                 ...   \n",
       "2811  {'schema_name': 'docling_core.transforms.chunk...   \n",
       "2812  {'schema_name': 'docling_core.transforms.chunk...   \n",
       "2813  {'schema_name': 'docling_core.transforms.chunk...   \n",
       "2814  {'schema_name': 'docling_core.transforms.chunk...   \n",
       "2815  {'schema_name': 'docling_core.transforms.chunk...   \n",
       "\n",
       "                                              file_type  chunk  \\\n",
       "0     https://www.sintef.no/projectweb/mrst/publicat...      0   \n",
       "1     https://www.sintef.no/projectweb/mrst/publicat...      1   \n",
       "2     https://www.sintef.no/projectweb/mrst/publicat...      2   \n",
       "3     https://www.sintef.no/projectweb/mrst/publicat...      3   \n",
       "4     https://www.sintef.no/projectweb/mrst/publicat...      4   \n",
       "...                                                 ...    ...   \n",
       "2811  https://www.sintef.no/projectweb/mrst/publicat...     34   \n",
       "2812  https://www.sintef.no/projectweb/mrst/publicat...     35   \n",
       "2813  https://www.sintef.no/projectweb/mrst/publicat...     36   \n",
       "2814  https://www.sintef.no/projectweb/mrst/publicat...     37   \n",
       "2815  https://www.sintef.no/projectweb/mrst/publicat...     38   \n",
       "\n",
       "                                                 source  \n",
       "0     https://folk.ntnu.no/andreas/papers/comg-poly-...  \n",
       "1     https://folk.ntnu.no/andreas/papers/comg-poly-...  \n",
       "2     https://folk.ntnu.no/andreas/papers/comg-poly-...  \n",
       "3     https://folk.ntnu.no/andreas/papers/comg-poly-...  \n",
       "4     https://folk.ntnu.no/andreas/papers/comg-poly-...  \n",
       "...                                                 ...  \n",
       "2811  http://folk.ntnu.no/andreas/papers/geostats-20...  \n",
       "2812  http://folk.ntnu.no/andreas/papers/geostats-20...  \n",
       "2813  http://folk.ntnu.no/andreas/papers/geostats-20...  \n",
       "2814  http://folk.ntnu.no/andreas/papers/geostats-20...  \n",
       "2815  http://folk.ntnu.no/andreas/papers/geostats-20...  \n",
       "\n",
       "[2816 rows x 7 columns]"
      ]
     },
     "execution_count": 6,
     "metadata": {},
     "output_type": "execute_result"
    }
   ],
   "source": [
    "df = pd.read_pickle('../folk_ntnu_df.pkl')\n",
    "df"
   ]
  }
 ],
 "metadata": {
  "kernelspec": {
   "display_name": ".venv",
   "language": "python",
   "name": "python3"
  },
  "language_info": {
   "codemirror_mode": {
    "name": "ipython",
    "version": 3
   },
   "file_extension": ".py",
   "mimetype": "text/x-python",
   "name": "python",
   "nbconvert_exporter": "python",
   "pygments_lexer": "ipython3",
   "version": "3.13.3"
  }
 },
 "nbformat": 4,
 "nbformat_minor": 5
}
