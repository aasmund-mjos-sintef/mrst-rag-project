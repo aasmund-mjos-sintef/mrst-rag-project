{
 "cells": [
  {
   "cell_type": "code",
   "execution_count": 2,
   "id": "81ee32ca",
   "metadata": {},
   "outputs": [
    {
     "name": "stdout",
     "output_type": "stream",
     "text": [
      "275.4539748953975\n"
     ]
    },
    {
     "data": {
      "image/png": "[encoded data removed]",
      "text/plain": [
       "<Figure size 640x480 with 1 Axes>"
      ]
     },
     "metadata": {},
     "output_type": "display_data"
    }
   ],
   "source": [
    "import tiktoken\n",
    "import pandas as pd\n",
    "import matplotlib.pyplot as plt\n",
    "import numpy as np\n",
    "\n",
    "def num_tokens_from_string(string: str, encoding_name: str) -> int:\n",
    "    \"\"\"Returns the number of tokens in a text string.\"\"\"\n",
    "    encoding = tiktoken.get_encoding(encoding_name)\n",
    "    num_tokens = len(encoding.encode(string))\n",
    "    return num_tokens\n",
    "\n",
    "token_count = []\n",
    "for abstract in pd.read_pickle('../../datasets/mrst_abstracts_embedding.pkl')['content']:\n",
    "    token = num_tokens_from_string(abstract, \"cl100k_base\")\n",
    "    if token and token < 1000:\n",
    "        token_count.append(token)\n",
    "\n",
    "n_bins = 20\n",
    "minimum, maximum = min(token_count), max(token_count)\n",
    "log_bins = np.logspace(np.log10(minimum), np.log10(maximum), n_bins+1, base = 10)\n",
    "\n",
    "print(sum(token_count)/len(token_count))\n",
    "plt.hist(token_count, bins = n_bins)\n",
    "# plt.hist(token_count, bins = log_bins)\n",
    "plt.xlabel('Token Count')\n",
    "plt.ylabel('Number of Instances')\n",
    "# plt.xscale('log')\n",
    "plt.savefig('mrst_abstract_token_count.svg')"
   ]
  },
  {
   "cell_type": "code",
   "execution_count": null,
   "id": "efc36e37",
   "metadata": {},
   "outputs": [],
   "source": [
    "from openai import OpenAI\n",
    "import os\n",
    "from dotenv import load_dotenv\n",
    "from pydantic import BaseModel\n",
    "from typing import List\n",
    "import requests\n",
    "from bs4 import BeautifulSoup\n",
    "import json\n",
    "\n",
    "load_dotenv()\n",
    "api_key = os.getenv(\"LANGCHAIN_OPENAI_API_KEY\")\n",
    "\n",
    "client = OpenAI(api_key=api_key)\n",
    "\n",
    "def web_search_mrst(filename: str) -> tuple[str, List[str]]:\n",
    "    \"\"\"Scrape a SINTEF MRST website with filename,\n",
    "    and return content and explicit links to other mrst sites\"\"\"\n",
    "    try:\n",
    "        response = requests.get(filename)\n",
    "        soup = BeautifulSoup(response.content, 'html.parser')\n",
    "        text = soup.get_text(strip = True)\n",
    "        links = [\"https://sintef.no\" + l['href'] for l in soup.find_all('a', href = True) if l['href'][0]==\"/\"]\n",
    "        return (text, links)\n",
    "    except Exception as e:\n",
    "        print(e)\n",
    "        return (\"\",[])\n",
    "\n",
    "class Keywords(BaseModel):\n",
    "    keywords: List[str]\n",
    "\n",
    "instructions = f\"\"\"\n",
    "You are an expert reservoir simulation petroleum scientist for the MRST group at Sintef.\n",
    "Generate 10 keywords about the research topics mentioned in the users query.\n",
    "Always use the tools call, here are some possible start links:\n",
    "{[link for link in web_search_mrst('https://www.sintef.no/projectweb/mrst/modules/')[1] if 'modules' in link]}\n",
    "\"\"\"\n",
    "\n",
    "question = \"What do you know about enhanced oil recovery\"\n",
    "\n",
    "tools = [\n",
    "    {\n",
    "        \"type\": \"function\",\n",
    "        \"name\": \"web_search_mrst\",\n",
    "        \"description\": \"Scrape Sintef MRST module site to learn more about specific Matlab Reservoir Simulation Toolbox Modules\",\n",
    "        \"parameters\": {\n",
    "            \"type\": \"object\",\n",
    "            \"properties\": {\n",
    "                \"filename\": {\n",
    "                    \"type\": \"string\",\n",
    "                    \"description\": \"The Web Page you want to learn information from\"\n",
    "                }\n",
    "            },\n",
    "            \"required\": [\"filename\"]\n",
    "        }\n",
    "    }\n",
    "]\n",
    "\n",
    "input_messages = [\n",
    "    {\"role\": \"developer\", \"content\": instructions}, {\"role\": \"user\", \"content\": question}\n",
    "]\n",
    "\n",
    "# response = client.responses.create(\n",
    "#     model=\"gpt-5-nano\",\n",
    "#     tools=tools,\n",
    "#     instructions=instructions,\n",
    "#     input=input_messages,\n",
    "#     # text_format = Keywords\n",
    "# )\n",
    "\n",
    "# function_call = None\n",
    "# function_call_arguments = None\n",
    "# input_messages += response.output\n",
    "\n",
    "# for item in response.output:\n",
    "#     if item.type == \"function_call\":\n",
    "#         function_call = item\n",
    "#         function_call_arguments = json.loads(item.arguments)\n",
    "#         print(item)"
   ]
  }
 ],
 "metadata": {
  "kernelspec": {
   "display_name": "test_venv",
   "language": "python",
   "name": "python3"
  },
  "language_info": {
   "codemirror_mode": {
    "name": "ipython",
    "version": 3
   },
   "file_extension": ".py",
   "mimetype": "text/x-python",
   "name": "python",
   "nbconvert_exporter": "python",
   "pygments_lexer": "ipython3",
   "version": "3.13.3"
  }
 },
 "nbformat": 4,
 "nbformat_minor": 5
}
