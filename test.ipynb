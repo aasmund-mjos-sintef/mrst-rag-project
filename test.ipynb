{
 "cells": [
  {
   "cell_type": "code",
   "execution_count": 112,
   "id": "3c21892a",
   "metadata": {},
   "outputs": [],
   "source": [
    "from langchain_docling import DoclingLoader\n",
    "from bs4 import BeautifulSoup\n",
    "import requests\n",
    "import pandas as pd\n",
    "import numpy as np"
   ]
  },
  {
   "cell_type": "code",
   "execution_count": 23,
   "id": "8d4c1ec7",
   "metadata": {},
   "outputs": [],
   "source": [
    "FILE_PATH = \"https://www.sintef.no/projectweb/mrst/publications/papers-by-mrst-team/\"\n",
    "loader = DoclingLoader(file_path=FILE_PATH)\n",
    "docs = loader.load()"
   ]
  },
  {
   "cell_type": "code",
   "execution_count": 29,
   "id": "a58a9ae1",
   "metadata": {},
   "outputs": [
    {
     "name": "stdout",
     "output_type": "stream",
     "text": [
      "[{'self_ref': '#/texts/2', 'parent': {'$ref': '#/groups/2'}, 'children': [], 'content_layer': 'body', 'label': 'list_item', 'prov': []}, {'self_ref': '#/texts/3', 'parent': {'$ref': '#/groups/2'}, 'children': [], 'content_layer': 'body', 'label': 'list_item', 'prov': []}, {'self_ref': '#/texts/4', 'parent': {'$ref': '#/groups/2'}, 'children': [], 'content_layer': 'body', 'label': 'list_item', 'prov': []}, {'self_ref': '#/texts/5', 'parent': {'$ref': '#/groups/2'}, 'children': [], 'content_layer': 'body', 'label': 'list_item', 'prov': []}, {'self_ref': '#/texts/6', 'parent': {'$ref': '#/groups/2'}, 'children': [], 'content_layer': 'body', 'label': 'list_item', 'prov': []}, {'self_ref': '#/texts/7', 'parent': {'$ref': '#/groups/2'}, 'children': [], 'content_layer': 'body', 'label': 'list_item', 'prov': []}, {'self_ref': '#/texts/8', 'parent': {'$ref': '#/groups/2'}, 'children': [], 'content_layer': 'body', 'label': 'list_item', 'prov': []}, {'self_ref': '#/texts/9', 'parent': {'$ref': '#/groups/2'}, 'children': [], 'content_layer': 'body', 'label': 'list_item', 'prov': []}, {'self_ref': '#/texts/10', 'parent': {'$ref': '#/groups/2'}, 'children': [], 'content_layer': 'body', 'label': 'list_item', 'prov': []}, {'self_ref': '#/texts/11', 'parent': {'$ref': '#/groups/2'}, 'children': [], 'content_layer': 'body', 'label': 'list_item', 'prov': []}]\n"
     ]
    }
   ],
   "source": [
    "print(docs[0].metadata.get('dl_meta').get('doc_items'))"
   ]
  },
  {
   "cell_type": "code",
   "execution_count": 64,
   "id": "86e90187",
   "metadata": {},
   "outputs": [],
   "source": [
    "response = requests.get(FILE_PATH)\n",
    "soup = BeautifulSoup(response.content, 'html.parser')\n",
    "\n",
    "documents = []\n",
    "\n",
    "paper_lists = soup.find_all('div', class_ = \"rich-text-field\")[1]\n",
    "for article in paper_lists.find_all(\"li\"):\n",
    "    links = []\n",
    "    text = article.get_text(strip = True)\n",
    "    for link in article.find_all('a'):\n",
    "        links.append(link.get('href'))\n",
    "    df ={\"text\": text, \"links\": links}\n",
    "    documents.append(df)"
   ]
  },
  {
   "cell_type": "code",
   "execution_count": 71,
   "id": "424d334d",
   "metadata": {},
   "outputs": [
    {
     "name": "stderr",
     "output_type": "stream",
     "text": [
      "Downloading detection model, please wait. This may take several minutes depending upon your network connection.\n",
      "Downloading recognition model, please wait. This may take several minutes depending upon your network connection.\n",
      "Token indices sequence length is longer than the specified maximum sequence length for this model (930 > 512). Running this sequence through the model will result in indexing errors\n"
     ]
    }
   ],
   "source": [
    "FILE_PATH = \"https://www.cambridge.org/core/services/aop-cambridge-core/content/view/7AC2425C73F6F729DB88DB1A504FA1E7/9781316519967AR.pdf/Advanced_Modeling_with_the_MATLAB_Reservoir_Simulation_Toolbox.pdf?event-type=FTLA\"\n",
    "loader = DoclingLoader(file_path=FILE_PATH)\n",
    "docs = loader.load()"
   ]
  },
  {
   "cell_type": "code",
   "execution_count": 212,
   "id": "c86fb210",
   "metadata": {},
   "outputs": [],
   "source": [
    "advanced_section_to_author = {\n",
    "    1: [\"Runar L. Berge\", \"Øystein S. Klemetsdal\", \"Knut-Andreas Lie\"],\n",
    "    2: [\"Mohammed Al Kobaisi\", \"Wenjuan Zhang\"],\n",
    "    3: [\"Øystein S. Klemetsdal\", \"Knut-Andreas Lie\"],\n",
    "    4: [\"Knut-Andreas Lie\", \"Olav Møyner\"],\n",
    "    5: [\"Olav Møyner\"],\n",
    "    6: [\"Olav Møyner\"],\n",
    "    7: [\"Xin Sun\", \"Knut-Andreas Lie\", \"Kai Bao\"],\n",
    "    8: [\"Olav Møyner\"],\n",
    "    9: [\"Daniel Wong\", \"Florian Doster\", \"Sebastian Geiger\"],\n",
    "    10: [\"Olufemi Olorode\", \"Bin Wang\", \"Harun Ur Rashid\"],\n",
    "    11: [\"Rafael March\", \"Christine Maier\", \"Florian Doster\", \"Sebastian Geiger\"],\n",
    "    12: [\"Marine Collignon\", \"Øystein S. Klemetsdal\", \"Olav Møyner\"],\n",
    "    13: [\"Jhabriel Varela\", \"Sarah E. Gasda\", \"Eirik Keilegavlen\", \"Jan Martin\"],\n",
    "    14: [\"Odd Andersen\"]\n",
    "}\n",
    "\n",
    "introduction_section_to_author = {\n",
    "    1: [\"Knut-Andreas Lie\"],\n",
    "    2: [\"Knut-Andreas Lie\"],\n",
    "    3: [\"Knut-Andreas Lie\"],\n",
    "    4: [\"Knut-Andreas Lie\"],\n",
    "    5: [\"Knut-Andreas Lie\"],\n",
    "    6: [\"Knut-Andreas Lie\"],\n",
    "    7: [\"Knut-Andreas Lie\"],\n",
    "    8: [\"Knut-Andreas Lie\"],\n",
    "    9: [\"Knut-Andreas Lie\"],\n",
    "    10: [\"Knut-Andreas Lie\"],\n",
    "    11: [\"Knut-Andreas Lie\"],\n",
    "    12: [\"Knut-Andreas Lie\"],\n",
    "    13: [\"Knut-Andreas Lie\"],\n",
    "    14: [\"Knut-Andreas Lie\"],\n",
    "    15: [\"Knut-Andreas Lie\"],\n",
    "}\n",
    "\n",
    "def get_number(title):\n",
    "    n_chars = len(title)\n",
    "    number = \"\"\n",
    "    n_dots = 0\n",
    "    for i in range(n_chars):\n",
    "        c = title[i]\n",
    "        if c.isdigit() or c==\".\":\n",
    "            number+=c\n",
    "            if c==\".\":\n",
    "                n_dots += 1\n",
    "        else:\n",
    "            rest_of_title = title[i:]\n",
    "            return number, n_dots, rest_of_title\n",
    "    return number, n_dots, title\n",
    "    \n",
    "\n",
    "def sort_book(book_df, name_df, metadata_df, file_name):\n",
    "    numbers = book_df.keys()\n",
    "    content = book_df.values()\n",
    "    section_name = name_df.values()\n",
    "    metadata = metadata_df.values()\n",
    "    df = pd.DataFrame()\n",
    "    numbers = [[int(i) for i in num.split(\".\")] for num in numbers]\n",
    "    numbers = np.array(numbers)\n",
    "    for i in range(3):\n",
    "        df[str(i)] = numbers[:,i]\n",
    "\n",
    "    if file_name == \"Advanced Book\":\n",
    "        section_to_author_dict = advanced_section_to_author\n",
    "    if file_name == \"Introduction Book\":\n",
    "        section_to_author_dict = introduction_section_to_author\n",
    "\n",
    "    df['authors'] = df['0'].apply(lambda x: section_to_author_dict.get(x))\n",
    "    df['content'] = content\n",
    "    df['section_name'] = section_name\n",
    "    df['metadata'] = metadata\n",
    "    df['file_type'] = file_name\n",
    "    return df.sort_values(by = ['0','1','2'])\n",
    "\n",
    "def generate_df(book_documents, file_name):\n",
    "    sections = set()\n",
    "    book_df = {}\n",
    "    name_df = {}\n",
    "    metadata_df = {}\n",
    "\n",
    "    max_dots = 2\n",
    "\n",
    "    for doc in book_documents:\n",
    "        pg_content = doc.page_content\n",
    "        split = pg_content.split(\"\\n\")\n",
    "        title = split[0]\n",
    "        content = \"\\n\".join(split[1:])\n",
    "        number, n_dots, name_title = get_number(title)\n",
    "        if number != \"\" and int(number.split(\".\")[0]) <= 15:\n",
    "\n",
    "            number += \".0\"*(max_dots-n_dots)\n",
    "\n",
    "            if number not in sections:\n",
    "                sections.add(number)\n",
    "                book_df[number] = content\n",
    "                name_df[number] = name_title\n",
    "                metadata_df[number] = doc.metadata\n",
    "            else:\n",
    "                book_df[number] += content\n",
    "\n",
    "    advanced_book_df = sort_book(book_df, name_df, metadata_df, file_name)\n",
    "    return advanced_book_df"
   ]
  },
  {
   "cell_type": "code",
   "execution_count": 213,
   "id": "0398097c",
   "metadata": {},
   "outputs": [],
   "source": [
    "advanced_book_df = generate_df(book_documents = docs, file_name = \"Advanced Book\")"
   ]
  },
  {
   "cell_type": "code",
   "execution_count": 217,
   "id": "1b1dca40",
   "metadata": {},
   "outputs": [],
   "source": [
    "advanced_book_df.to_pickle(\"advanced_book_df.pkl\")"
   ]
  },
  {
   "cell_type": "code",
   "execution_count": 190,
   "id": "172eb7c6",
   "metadata": {},
   "outputs": [
    {
     "name": "stderr",
     "output_type": "stream",
     "text": [
      "Token indices sequence length is longer than the specified maximum sequence length for this model (639 > 512). Running this sequence through the model will result in indexing errors\n"
     ]
    }
   ],
   "source": [
    "FILE_PATH = \"https://www.cambridge.org/core/services/aop-cambridge-core/content/view/F48C3D8C88A3F67E4D97D4E16970F894/9781108492430AR.pdf/An_Introduction_to_Reservoir_Simulation_Using_MATLAB_GNU_Octave.pdf?event-type=FTLA\"\n",
    "loader = DoclingLoader(file_path=FILE_PATH)\n",
    "docs_v2 = loader.load()"
   ]
  },
  {
   "cell_type": "code",
   "execution_count": 215,
   "id": "870811d0",
   "metadata": {},
   "outputs": [],
   "source": [
    "introduction_book_df = generate_df(book_documents = docs_v2, file_name = \"Introduction Book\")"
   ]
  },
  {
   "cell_type": "code",
   "execution_count": 218,
   "id": "96dc41ee",
   "metadata": {},
   "outputs": [],
   "source": [
    "introduction_book_df.to_pickle(\"introduction_book_df.pkl\")"
   ]
  }
 ],
 "metadata": {
  "kernelspec": {
   "display_name": ".venv",
   "language": "python",
   "name": "python3"
  },
  "language_info": {
   "codemirror_mode": {
    "name": "ipython",
    "version": 3
   },
   "file_extension": ".py",
   "mimetype": "text/x-python",
   "name": "python",
   "nbconvert_exporter": "python",
   "pygments_lexer": "ipython3",
   "version": "3.13.3"
  }
 },
 "nbformat": 4,
 "nbformat_minor": 5
}
