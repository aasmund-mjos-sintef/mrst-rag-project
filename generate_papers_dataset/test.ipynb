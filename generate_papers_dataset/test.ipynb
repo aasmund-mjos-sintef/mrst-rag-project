{
 "cells": [
  {
   "cell_type": "code",
   "execution_count": 1,
   "id": "f90cf037",
   "metadata": {},
   "outputs": [
    {
     "name": "stderr",
     "output_type": "stream",
     "text": [
      "/home/aasmund_mjos/Downloads/sintef/mrst-rag-project/.venv/lib/python3.13/site-packages/tqdm/auto.py:21: TqdmWarning: IProgress not found. Please update jupyter and ipywidgets. See https://ipywidgets.readthedocs.io/en/stable/user_install.html\n",
      "  from .autonotebook import tqdm as notebook_tqdm\n"
     ]
    }
   ],
   "source": [
    "from langchain_docling import DoclingLoader\n",
    "from bs4 import BeautifulSoup\n",
    "import requests\n",
    "import pandas as pd\n",
    "import numpy as np"
   ]
  },
  {
   "cell_type": "code",
   "execution_count": null,
   "id": "55b5e261",
   "metadata": {},
   "outputs": [],
   "source": [
    "links = [\"https://www.sintef.no/projectweb/mrst/publications/papers-by-mrst-team/\", \n",
    "         \"https://www.sintef.no/projectweb/mrst/publications/proceedings-by-mrst-team/\",\n",
    "         \"https://www.sintef.no/projectweb/mrst/publications/papers-by-others/\",\n",
    "         \"https://www.sintef.no/projectweb/mrst/publications/proceedings-papers/\",\n",
    "         \"https://www.sintef.no/projectweb/mrst/publications/papers-by-others2/\",\n",
    "         \"https://www.sintef.no/projectweb/mrst/publications/phd-theses/\",\n",
    "         \"https://www.sintef.no/projectweb/mrst/publications/master-theses/\"]"
   ]
  }
 ],
 "metadata": {
  "kernelspec": {
   "display_name": ".venv",
   "language": "python",
   "name": "python3"
  },
  "language_info": {
   "codemirror_mode": {
    "name": "ipython",
    "version": 3
   },
   "file_extension": ".py",
   "mimetype": "text/x-python",
   "name": "python",
   "nbconvert_exporter": "python",
   "pygments_lexer": "ipython3",
   "version": "3.13.3"
  }
 },
 "nbformat": 4,
 "nbformat_minor": 5
}
